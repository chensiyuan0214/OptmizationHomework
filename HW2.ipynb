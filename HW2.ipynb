{
  "nbformat": 4,
  "nbformat_minor": 0,
  "metadata": {
    "colab": {
      "name": "HW2.ipynb",
      "provenance": []
    },
    "kernelspec": {
      "name": "python3",
      "display_name": "Python 3"
    }
  },
  "cells": [
    {
      "cell_type": "markdown",
      "metadata": {
        "id": "v9x9yXQFNU3B",
        "colab_type": "text"
      },
      "source": [
        "$$\n",
        "\\begin{array}{rl}\n",
        "    \\max & -(101.625+a_1)x_1 - (101.5625+a_2)x_2 - (103.80+a_3)x_3 +(101.625+b_1)y_1 + (101.5625+b_2)y_2+(103.80+b_3)y_3 > 0  \\\\\n",
        "      \\mbox{Subject to} & -101.625x_1 - 101.5625x_2 - 103.80x_3 +101.625y_1 + 101.5625y_2+103.80y_3 > 0 \\nonumber \\\\\n",
        "      & -101.625x_1 - 101.5625x_2 - 103.80x_3 +101.625y_1 + 101.5625y_2+103.80y_3 \\le\\ 500 \\nonumber \\\\\n",
        "  & 103.4375x_1 +2.75x_2 +3.875x_3 -103.4375y_1 - 2.75y_2 - 3.875y_3 \\ge\\ 0 \\\\\n",
        "  &  102.75x_2 + 103.875x_3 - 102.75y_2 - 103.875y_3 \\ge\\ 0 \\\\\n",
        "  & x_i \\ge\\ 0  \\  i = 1, 2,3\\\\\n",
        "  & y_i \\ge\\ 0  \\  i = 1, 2,3\\\\  \n",
        "\\end{array}\n",
        "$$"
      ]
    },
    {
      "cell_type": "code",
      "metadata": {
        "id": "Tgo10dqhNIdy",
        "colab_type": "code",
        "colab": {}
      },
      "source": [
        "import numpy as np\n",
        "import cvxpy as cp\n",
        "import scipy"
      ],
      "execution_count": null,
      "outputs": []
    },
    {
      "cell_type": "code",
      "metadata": {
        "id": "KTg0zT42PyAE",
        "colab_type": "code",
        "colab": {}
      },
      "source": [
        "x = cp.Variable(3)\n",
        "y = cp.Variable(3)"
      ],
      "execution_count": null,
      "outputs": []
    },
    {
      "cell_type": "code",
      "metadata": {
        "id": "IDHtHnKAQDTD",
        "colab_type": "code",
        "colab": {
          "base_uri": "https://localhost:8080/",
          "height": 70
        },
        "outputId": "ba2a74ed-d544-4035-b97e-ea3d97ed8e2d"
      },
      "source": [
        "obj = cp.Maximize(-101.625*x[0] - 101.5626*x[1] - 103.80*x[2] + 101.625*y[0] + 101.5625*y[1] + 103.80*y[2]) \n",
        "                  \n",
        "constraints = [\n",
        "  -101.625*x[0] - 101.5626*x[1] - 103.80*x[2] + 101.625*y[0] + 101.5625*y[1] + 103.80*y[2] >= 0,\n",
        "  -101.625*x[0] - 101.5626*x[1] - 103.80*x[2] + 101.625*y[0] + 101.5625*y[1] + 103.80*y[2] <= 500,\n",
        "  103.4375*x[0] + 2.75*x[1] + 3.875*x[2] - 103.4375*y[0] - 2.75*y[1] - 3.875*y[2] >= 0,\n",
        "  102.75*x[1] + 103.875*x[2] - 102.75*y[1] - 103.875*y[2] >= 0,\n",
        "  x[0] >= 0, x[1] >= 0, x[2] >= 0, y[0] >= 0, y[1] >= 0, y[2] >= 0\n",
        "]\n",
        "\n",
        "prob = cp.Problem(obj,constraints)\n",
        "prob.solve(solver=cp.GLPK)\n",
        "\n",
        "if (prob.status == 'optimal'):\n",
        "  print('profit = '+str(prob.value))\n",
        "  print('xi = '+ str(x.value))\n",
        "  print('yi = '+ str(y.value))\n"
      ],
      "execution_count": null,
      "outputs": [
        {
          "output_type": "stream",
          "text": [
            "profit = 500.0\n",
            "xi = [1.06498782e+02 1.01714102e+04 1.12072512e-12]\n",
            "yi = [    0.             0.         10061.25055574]\n"
          ],
          "name": "stdout"
        }
      ]
    },
    {
      "cell_type": "markdown",
      "metadata": {
        "id": "_NjnDzU4prFs",
        "colab_type": "text"
      },
      "source": [
        "$$\n",
        "\\begin{array}{rl}\n",
        "    \\max & -(101.625+a_1)x_1 - (101.5625+a_2)x_2 - (103.80+a_3)x_3 +(101.625+b_1)y_1 + (101.5625+b_2)y_2+(103.80+b_3)y_3 > 0  \\\\\n",
        "      \\mbox{Subject to} & -(101.625+a_1)x_1 - (101.5625+a_2)x_2 - (103.80+a_3)x_3 +(101.625+b_1)y_1 + (101.5625+b_2)y_2+(103.80+b_3)y_3 > 0 \\nonumber \\\\\n",
        "      & -101.625x_1 - 101.5625x_2 - 103.80x_3 +101.625y_1 + 101.5625y_2+103.80y_3 \\ge\\ 500 \\nonumber \\\\\n",
        "  & 103.4375x_1 +2.75x_2 +3.875x_3 -103.4375y_1 - 2.75y_2 - 3.875y_3 \\ge\\ 0 \\\\\n",
        "  &  102.75x_2 + 103.875x_3 - 102.75y_2 - 103.875y_3 \\ge\\ 0 \\\\\n",
        "  & x_i \\ge\\ 0  \\  i = 1, 2,3\\\\\n",
        "  & y_i \\ge\\ 0  \\  i = 1, 2,3\\\\  \n",
        "\\end{array}\n",
        "$$"
      ]
    },
    {
      "cell_type": "code",
      "metadata": {
        "id": "SRzmnGsAqPUq",
        "colab_type": "code",
        "colab": {
          "base_uri": "https://localhost:8080/",
          "height": 70
        },
        "outputId": "6a4095ca-08d5-4064-aa0b-7d8feb282a4f"
      },
      "source": [
        "x = cp.Variable(3)\n",
        "y = cp.Variable(3)\n",
        "\n",
        "obj = cp.Maximize(-101.6563*x[0] - 101.5938*x[1] - 103.7813*x[2] + 101.5938*y[0] + 101.5313*y[1] + 103.7188*y[2]) \n",
        "                  \n",
        "constraints = [\n",
        "  -101.6563*x[0] - 101.5938*x[1] - 103.7813*x[2] + 101.5938*y[0] + 101.5313*y[1] + 103.7188*y[2] >= 0,\n",
        "  -101.6563*x[0] - 101.5938*x[1] - 103.7813*x[2] + 101.5938*y[0] + 101.5313*y[1] + 103.7188*y[2] <= 500,\n",
        "  103.4375*x[0] + 2.75*x[1] + 3.875*x[2] - 103.4375*y[0] - 2.75*y[1] - 3.875*y[2] >= 0,\n",
        "  102.75*x[1] + 103.875*x[2] - 102.75*y[1] - 103.875*y[2] >= 0,\n",
        "  x[0] >= 0, x[1] >= 0, x[2] >= 0, y[0] >= 0, y[1] >= 0, y[2] >= 0\n",
        "]\n",
        "\n",
        "prob = cp.Problem(obj,constraints)\n",
        "prob.solve(solver=cp.GLPK)\n",
        "\n",
        "if (prob.status == 'optimal'):\n",
        "  print('profit = '+str(prob.value))\n",
        "  print('xi = '+ str(x.value))\n",
        "  print('yi = '+ str(y.value))\n",
        "\n"
      ],
      "execution_count": null,
      "outputs": [
        {
          "output_type": "stream",
          "text": [
            "profit = -0.0\n",
            "xi = [0. 0. 0.]\n",
            "yi = [0. 0. 0.]\n"
          ],
          "name": "stdout"
        }
      ]
    },
    {
      "cell_type": "markdown",
      "metadata": {
        "id": "YrbpZ63Br6IX",
        "colab_type": "text"
      },
      "source": [
        "$$\n",
        "\\begin{array}{rl}\n",
        "    \\min & \\sum_{i=1}^{12} c_i + p_i*b_i \\\\\n",
        "      \\mbox{Subject to} & y_{i-1} +b_i-d_i=y_i \\\\\n",
        "  & i = 1..12\\\\ \n",
        "  & b_i, y_i \\ge\\ 0 \\\\\n",
        "\\end{array}\n",
        "$$"
      ]
    },
    {
      "cell_type": "code",
      "metadata": {
        "id": "xHxda-ZAz8GB",
        "colab_type": "code",
        "colab": {
          "base_uri": "https://localhost:8080/",
          "height": 105
        },
        "outputId": "b619e196-c2e9-40a8-817d-7886772c40bc"
      },
      "source": [
        "y = cp.Variable(12)\n",
        "p = np.array([90, 100, 110, 120, 130, 120, 110, 100, 90, 80, 70, 60])\n",
        "s = cp.Variable(12)\n",
        "d = np.array([90, 120, 180, 220, 150, 120, 110, 100, 90, 80, 70, 60])\n",
        "c = cp.Variable(12)\n",
        "b = cp.Variable(12)\n",
        "\n",
        "obj_fun = []\n",
        "\n",
        "for i in range(12): \n",
        "  obj_fun.append(c[i] + p[i]*b[i])\n",
        "\n",
        "obj = cp.Minimize(sum(obj_fun))\n",
        "\n",
        "\n",
        "constraints = [c[0] >= (y[0]+20)/2*5]\n",
        "constraints = constraints + [c[0] >= 10*(20+y[0])/2-1000]\n",
        "constraints = constraints + [y[0] == 20 + b[0] - d[0]]\n",
        "for i in range(1,12):\n",
        "  constraints = constraints + [c[i] >= (y[i]+y[i-1])/2*5]\n",
        "  constraints = constraints + [c[i] >= 10*(y[i]+y[i-1])/2-1000]\n",
        "  constraints = constraints + [y[i] == y[i-1] + b[i] - d[i]]\n",
        "  constraints = constraints + [y[i]>=0, b[i]>=0]\n",
        "\n",
        "prob = cp.Problem(obj,constraints)\n",
        "prob.solve(solver=cp.GLPK)\n",
        "if (prob.status == 'optimal'):\n",
        "    print('obj = ' + str(prob.value))\n",
        "    print('y = ' + str(y.value))\n",
        "    print('s = ' + str(s.value))\n",
        "    print('c = ' + str(c.value))\n",
        "    print('b = ' + str(b.value))\n"
      ],
      "execution_count": null,
      "outputs": [
        {
          "output_type": "stream",
          "text": [
            "obj = 139225.0\n",
            "y = [380. 260. 250. 150.   0.   0.   0.   0.   0.   0.   0.   0.]\n",
            "s = None\n",
            "c = [1000. 2200. 1550. 1000.  375.    0.    0.    0.    0.    0.    0.    0.]\n",
            "b = [450.   0. 170. 120.   0. 120. 110. 100.  90.  80.  70.  60.]\n"
          ],
          "name": "stdout"
        }
      ]
    }
  ]
}